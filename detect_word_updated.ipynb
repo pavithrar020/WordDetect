{
 "cells": [
  {
   "cell_type": "code",
   "execution_count": 1,
   "id": "810be34c",
   "metadata": {},
   "outputs": [
    {
     "name": "stdout",
     "output_type": "stream",
     "text": [
      "True\n",
      "True\n",
      "False\n",
      "False\n",
      "True\n"
     ]
    }
   ],
   "source": [
    "import string\n",
    "\n",
    "def clean_punc(source_string):\n",
    "    result_string = source_string\n",
    "    for punct in string.punctuation:\n",
    "        result_string = result_string.replace(punct, '')\n",
    "    return result_string\n",
    "\n",
    "def detect_word(source_string, target_word):\n",
    "    source_string = clean_punc(source_string)\n",
    "    source_string = source_string.lower()\n",
    "    target_word = target_word.lower()\n",
    "    word_list = source_string.split()\n",
    "    return target_word in word_list\n",
    "\n",
    "if __name__ == \"__main__\":\n",
    "    t1 = \"***START OF THE PROJECT GUTENBERG EBOOK THREE YEARS IN EUROPE***\"\n",
    "    t2 = \"E-text prepared by Suzanne Shell, Michael Punch, and the Project Gutenberg\"\n",
    "    t3 = \"MEMOIR OF WILLIAM WELLS BROWN,                           _Page_ ix-xxix\"\n",
    "    t4 = \"I worked on a project.\"\n",
    "\n",
    "    print(detect_word(t1, 'project'))  \n",
    "    print(detect_word(t2, 'project'))  \n",
    "    print(detect_word(t3, 'project'))  \n",
    "    print(detect_word(t1, 'projects'))  \n",
    "    print(detect_word(t4, 'project'))  "
   ]
  },
  {
   "cell_type": "code",
   "execution_count": null,
   "id": "58766989",
   "metadata": {},
   "outputs": [],
   "source": []
  }
 ],
 "metadata": {
  "kernelspec": {
   "display_name": "Python 3 (ipykernel)",
   "language": "python",
   "name": "python3"
  },
  "language_info": {
   "codemirror_mode": {
    "name": "ipython",
    "version": 3
   },
   "file_extension": ".py",
   "mimetype": "text/x-python",
   "name": "python",
   "nbconvert_exporter": "python",
   "pygments_lexer": "ipython3",
   "version": "3.10.11"
  }
 },
 "nbformat": 4,
 "nbformat_minor": 5
}

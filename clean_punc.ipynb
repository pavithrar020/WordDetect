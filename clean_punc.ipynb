{
 "cells": [
  {
   "cell_type": "code",
   "execution_count": 2,
   "id": "4cc4ced8",
   "metadata": {},
   "outputs": [],
   "source": [
    "import string\n",
    "\n",
    "def clean_punc(source_string):\n",
    "    result_string = source_string\n",
    "    for punct in string.punctuation:\n",
    "        result_string = result_string.replace(punct, '')\n",
    "    return result_string"
   ]
  },
  {
   "cell_type": "code",
   "execution_count": 4,
   "id": "e20bd17d",
   "metadata": {},
   "outputs": [
    {
     "name": "stdout",
     "output_type": "stream",
     "text": [
      "Good morning  Hows your day going\n"
     ]
    }
   ],
   "source": [
    "if __name__ == \"__main__\":\n",
    "    sample_string = \"Good morning :)! How's your day going?\"\n",
    "    print(clean_punc(sample_string)) "
   ]
  },
  {
   "cell_type": "code",
   "execution_count": null,
   "id": "824fb77f",
   "metadata": {},
   "outputs": [],
   "source": []
  }
 ],
 "metadata": {
  "kernelspec": {
   "display_name": "Python 3 (ipykernel)",
   "language": "python",
   "name": "python3"
  },
  "language_info": {
   "codemirror_mode": {
    "name": "ipython",
    "version": 3
   },
   "file_extension": ".py",
   "mimetype": "text/x-python",
   "name": "python",
   "nbconvert_exporter": "python",
   "pygments_lexer": "ipython3",
   "version": "3.10.11"
  }
 },
 "nbformat": 4,
 "nbformat_minor": 5
}
